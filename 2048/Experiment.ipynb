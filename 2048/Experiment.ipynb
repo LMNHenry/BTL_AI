{
 "cells": [
  {
   "cell_type": "code",
   "execution_count": 2,
   "metadata": {},
   "outputs": [],
   "source": [
    "import numpy\n",
    "import math"
   ]
  },
  {
   "cell_type": "code",
   "execution_count": 3,
   "metadata": {},
   "outputs": [
    {
     "name": "stdout",
     "output_type": "stream",
     "text": [
      "[0 0 0 0 0 0 0 0 0 0 0 0 0 0 0 0]\n"
     ]
    }
   ],
   "source": [
    "grid = numpy.zeros((4, 4), dtype=int)\n",
    "print(grid.flatten())\n"
   ]
  },
  {
   "cell_type": "code",
   "execution_count": 4,
   "metadata": {},
   "outputs": [],
   "source": [
    "def move(flattenedGrid, key):\n",
    "    # temp = grid\n",
    "    size = int(math.sqrt(len(flattenedGrid)))\n",
    "    print(size)\n",
    "\n",
    "    grid = numpy.zeros((size, size), dtype=int)\n",
    "\n",
    "    for i in range(size):\n",
    "        grid[i][:] = flattenedGrid[i*size : size*(i + 1)]\n",
    "\n",
    "    for i in range(size):\n",
    "        flipped = False\n",
    "        if key in 'lr':  \n",
    "            row = grid[i, :]\n",
    "        else:\n",
    "            row = grid[:, i] \n",
    "\n",
    "        if key in 'rd':  \n",
    "            flipped = True\n",
    "            row = row[::-1]\n",
    "\n",
    "        notZeros = _get_num(row) \n",
    "        newRow = numpy.zeros_like(row)\n",
    "        newRow[:len(notZeros)] = notZeros  \n",
    "\n",
    "        if flipped:\n",
    "            newRow = newRow[::-1]\n",
    "\n",
    "        if key in 'lr':\n",
    "            grid[i, :] = newRow\n",
    "        else:\n",
    "            grid[:, i] = newRow\n",
    "\n",
    "    return grid.flatten()\n",
    "\n",
    "def _get_num(row):\n",
    "    notZeros = row[row != 0]\n",
    "    res = []\n",
    "    skip = False\n",
    "    for i in range(len(notZeros)):\n",
    "        if skip:\n",
    "            skip = False\n",
    "            continue\n",
    "        if i != len(notZeros) - 1 and notZeros[i] == notZeros[i + 1]: \n",
    "            sum = notZeros[i] * 2\n",
    "            res.append(sum)\n",
    "            skip = True\n",
    "        else:\n",
    "            res.append(notZeros[i])\n",
    "    return res"
   ]
  },
  {
   "cell_type": "code",
   "execution_count": 5,
   "metadata": {},
   "outputs": [
    {
     "name": "stdout",
     "output_type": "stream",
     "text": [
      "[[1 1 1 1]\n",
      " [2 2 2 2]\n",
      " [2 2 2 2]\n",
      " [2 2 2 2]]\n"
     ]
    }
   ],
   "source": [
    "test = numpy.full((4,4), 2)\n",
    "\n",
    "test3 = [1,1,1,1]\n",
    "\n",
    "test[0][:] = test3[0:4]\n",
    "print(test)"
   ]
  },
  {
   "cell_type": "code",
   "execution_count": 12,
   "metadata": {},
   "outputs": [
    {
     "name": "stdout",
     "output_type": "stream",
     "text": [
      "[1, 5]\n",
      "2 0 9 8 10 0\n",
      "[1, 5]\n"
     ]
    }
   ],
   "source": [
    "grid = numpy.array([\n",
    "    [2,0,4,0],\n",
    "    [2,0,4,5],\n",
    "    [2,0,4,5],\n",
    "    [2,0,4,5]\n",
    "    ])\n",
    "\n",
    "grid2 = numpy.array([2,0,9,8,10,0])\n",
    "\n",
    "# unoccupied_pos = list(zip(*numpy.where(grid2 == 0)))\n",
    "unoccupied_pos = list(*numpy.where(grid2 == 0))\n",
    "\n",
    "\n",
    "print(unoccupied_pos)\n",
    "print(*grid2)\n",
    "print(list(*numpy.where(grid2 == 0)))\n",
    "# for i in unoccupied_pos:\n",
    "# print(grid[(0,1)])"
   ]
  },
  {
   "cell_type": "code",
   "execution_count": null,
   "metadata": {},
   "outputs": [
    {
     "name": "stdout",
     "output_type": "stream",
     "text": [
      "[4]\n",
      "yes\n"
     ]
    }
   ],
   "source": [
    "maxValPos = list(*numpy.where(grid2 == max(grid2)))\n",
    "\n",
    "print(maxValPos)\n",
    "\n",
    "if 3 in maxValPos or 4 in maxValPos:\n",
    "    print( \"yes\")\n",
    "else:\n",
    "        print(\"no\")"
   ]
  },
  {
   "cell_type": "code",
   "execution_count": null,
   "metadata": {},
   "outputs": [
    {
     "name": "stdout",
     "output_type": "stream",
     "text": [
      "[4 5 7 3 0 9 7 0]\n"
     ]
    }
   ],
   "source": [
    "import numpy\n",
    "\n",
    "childList = numpy.array([\n",
    "                        [4,5,7,3,0,8,7,0],\n",
    "                        [4,5,7,3,0,9,7,0],\n",
    "                        [4,5,7,3,0,8,7,0]\n",
    "                        ])\n",
    "\n",
    "# for i in enumerate(childList):\n",
    "print(childList[1,:])\n"
   ]
  },
  {
   "cell_type": "code",
   "execution_count": null,
   "metadata": {},
   "outputs": [
    {
     "name": "stdout",
     "output_type": "stream",
     "text": [
      "[1 2 2 3 4 5]\n"
     ]
    }
   ],
   "source": [
    "arr = numpy.array([1,2,0,2,3,4,0,5])\n",
    "\n",
    "print(arr[arr!=0])"
   ]
  }
 ],
 "metadata": {
  "interpreter": {
   "hash": "b4845e30e58b6362bfabe16848e819b2b1ff94583413e6c0ec0f4507c52f691b"
  },
  "kernelspec": {
   "display_name": "Python 3.10.4 64-bit",
   "language": "python",
   "name": "python3"
  },
  "language_info": {
   "codemirror_mode": {
    "name": "ipython",
    "version": 3
   },
   "file_extension": ".py",
   "mimetype": "text/x-python",
   "name": "python",
   "nbconvert_exporter": "python",
   "pygments_lexer": "ipython3",
   "version": "3.10.4"
  },
  "orig_nbformat": 4
 },
 "nbformat": 4,
 "nbformat_minor": 2
}
